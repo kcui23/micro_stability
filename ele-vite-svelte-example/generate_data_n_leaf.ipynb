{
 "cells": [
  {
   "cell_type": "code",
   "execution_count": 5,
   "metadata": {},
   "outputs": [
    {
     "name": "stdout",
     "output_type": "stream",
     "text": [
      "Success.\n"
     ]
    }
   ],
   "source": [
    "import json, random\n",
    "\n",
    "# Define the example data\n",
    "example_data = {\n",
    "    'Filtering': ['Low Abundance Filtering', 'Prevalence Filtering', 'Variance Filtering', 'No Filtering'],\n",
    "    'Zero-Handling': ['Pseudocount Addition', 'k-NN Imputation', 'No Zero-Handling'],\n",
    "    'Normalization': ['TSS', 'CSS', 'TMM', 'CLR', 'No Normalization'],\n",
    "    'Transformation': ['Log', 'Logit', 'AST', 'No Transformation'],\n",
    "    'Model Perturbation': ['deseq2', 'edger', 'maaslin2', 'aldex2', 'method5'],\n",
    "    'Stability Metric': ['Differences in ASVs', 'AUROC', 'FDR']\n",
    "}\n",
    "\n",
    "# List of steps in hierarchical order\n",
    "steps = [\n",
    "    'Filtering',\n",
    "    'Zero-Handling',\n",
    "    'Normalization',\n",
    "    'Transformation',\n",
    "    'Model Perturbation',\n",
    "    'Stability Metric'\n",
    "]\n",
    "\n",
    "# Initialize the root of the JSON structure\n",
    "tree = {\n",
    "    \"name\": \"Raw data\",\n",
    "    \"children\": []\n",
    "}\n",
    "\n",
    "# Function to recursively build the tree\n",
    "def build_tree(current_node, steps, data, leaf_ids, current_step=0):\n",
    "    if current_step >= len(steps):\n",
    "        return\n",
    "    step = steps[current_step]\n",
    "    for option in data.get(step, []):\n",
    "        node = {\"name\": option}\n",
    "        if current_step == len(steps) - 1:\n",
    "            # Assign a unique ID to each leaf node\n",
    "            node[\"id\"] = f\"leaf-{leaf_ids[0]}\"\n",
    "            leaf_ids[0] += 1\n",
    "        else:\n",
    "            node[\"children\"] = []\n",
    "            build_tree(node, steps, data, leaf_ids, current_step + 1)\n",
    "        current_node[\"children\"].append(node)\n",
    "\n",
    "def extract_leaf_ids(node, id_dict):\n",
    "    \n",
    "    if 'children' not in node or not node['children']:\n",
    "        if 'id' in node:\n",
    "            id_dict[node['id']] = {\n",
    "                \"data_point\": [round(random.uniform(0, 10), 2), round(random.uniform(0, 10), 2)]\n",
    "            }\n",
    "    else:\n",
    "        for child in node['children']:\n",
    "            extract_leaf_ids(child, id_dict)\n",
    "\n",
    "# Initialize leaf ID counter\n",
    "leaf_ids = [1]\n",
    "\n",
    "# Build the hierarchical tree\n",
    "build_tree(tree, steps, example_data, leaf_ids)\n",
    "\n",
    "# Save the tree to a JSON file\n",
    "with open('src/renderer/src/public/data.json', 'w') as f:\n",
    "    json.dump(tree, f, indent=2)\n",
    "\n",
    "with open('src/renderer/src/public/data.json', 'r') as f:\n",
    "    data = json.load(f)\n",
    "\n",
    "leaf_id_data = {}\n",
    "extract_leaf_ids(data, leaf_id_data)\n",
    "\n",
    "with open('src/renderer/src/public/leaf_id_data_points.json', 'w') as f:\n",
    "    json.dump(leaf_id_data, f, indent=2)\n",
    "\n",
    "print(\"Success.\")"
   ]
  }
 ],
 "metadata": {
  "kernelspec": {
   "display_name": "base",
   "language": "python",
   "name": "python3"
  },
  "language_info": {
   "codemirror_mode": {
    "name": "ipython",
    "version": 3
   },
   "file_extension": ".py",
   "mimetype": "text/x-python",
   "name": "python",
   "nbconvert_exporter": "python",
   "pygments_lexer": "ipython3",
   "version": "3.9.7"
  }
 },
 "nbformat": 4,
 "nbformat_minor": 2
}
